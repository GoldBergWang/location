{
 "cells": [
  {
   "cell_type": "code",
   "execution_count": 9,
   "metadata": {},
   "outputs": [
    {
     "name": "stdout",
     "output_type": "stream",
     "text": [
      "(8477, 6)\n",
      "table1去重--------\n",
      "['shop_id'] 8477\n",
      "['category_id'] 67\n",
      "['longitude'] 6991\n",
      "['latitude'] 6995\n",
      "['price'] 54\n",
      "['mall_id'] 97\n",
      "\n",
      "\n",
      "(1138015, 6)\n",
      "table2去重--------\n",
      "['user_id'] 714608\n",
      "['shop_id'] 8477\n",
      "['time_stamp'] 4165\n",
      "['longitude'] 189749\n",
      "['latitude'] 170283\n",
      "['wifi_infos'] 1137647\n",
      "\n",
      "\n",
      "(483931, 7)\n",
      "table3去重--------\n",
      "['row_id'] 483931\n",
      "['user_id'] 338642\n",
      "['mall_id'] 97\n",
      "['time_stamp'] 1867\n",
      "['longitude'] 138936\n",
      "['latitude'] 128063\n",
      "['wifi_infos'] 483785\n"
     ]
    }
   ],
   "source": [
    "import pandas as pd\n",
    "import matplotlib.pyplot as plt\n",
    "shop_mall=pd.read_csv(r'C:\\Users\\mashiji\\Desktop\\test\\train_shop_mall.csv')\n",
    "user_shop=pd.read_csv(r'C:\\Users\\mashiji\\Desktop\\test\\train_user_shop.csv')\n",
    "test_evaluation=pd.read_csv(r'C:\\Users\\mashiji\\Desktop\\test\\test_evaluation.csv')\n",
    "#print(shop_mall.shape)\n",
    "# print(user_shop.shape)\n",
    "# print(test_evaluation.shape)\n",
    "table1=[['shop_id'],['category_id'],['longitude'],['latitude'],['price'],['mall_id']]\n",
    "table2=[['user_id'],['shop_id'],['time_stamp'],['longitude'],['latitude'],['wifi_infos']]\n",
    "table3=[['row_id'],['user_id'],['mall_id'],['time_stamp'],['longitude'],['latitude'],['wifi_infos']]\n",
    "print(shop_mall.shape)\n",
    "print('table1去重--------')\n",
    "for i in table1:\n",
    "    a=shop_mall[i].drop_duplicates()\n",
    "    print(i,len(a))\n",
    "print('\\n')\n",
    "print(user_shop.shape)\n",
    "print('table2去重--------')\n",
    "for i in table2:\n",
    "    a=user_shop[i].drop_duplicates()\n",
    "    print(i,len(a))  \n",
    "print('\\n')    \n",
    "print(test_evaluation.shape)\n",
    "print('table3去重--------')    \n",
    "for i in table3:\n",
    "    a=test_evaluation[i].drop_duplicates()\n",
    "    print(i,len(a))   "
   ]
  }
 ],
 "metadata": {
  "kernelspec": {
   "display_name": "Python 3",
   "language": "python",
   "name": "python3"
  },
  "language_info": {
   "codemirror_mode": {
    "name": "ipython",
    "version": 3
   },
   "file_extension": ".py",
   "mimetype": "text/x-python",
   "name": "python",
   "nbconvert_exporter": "python",
   "pygments_lexer": "ipython3",
   "version": "3.6.1"
  }
 },
 "nbformat": 4,
 "nbformat_minor": 2
}
